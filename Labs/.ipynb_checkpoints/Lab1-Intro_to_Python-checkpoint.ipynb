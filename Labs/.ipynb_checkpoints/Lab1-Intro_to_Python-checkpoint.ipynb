{
 "cells": [
  {
   "cell_type": "markdown",
   "metadata": {},
   "source": [
    "# Lab 1 - Jupyter and Python\n",
    "\n",
    "# Objective\n",
    "\n",
    "The goal of this lab is to familiarize yourself with Python and Jupyter Notebooks, learn the very basics of data types and manipulation in Python, and to explore working with data in Python. We will cover a lot of basic material here. Don't worry if it seems like a lot, we will be using these methods every week. The idea is to get you comfortable with Python and Jupyter notebookes, and to provide you a reference to work from in the following weeks. Be sure to execture any code you see by clicking on the box, then hitting Run/ctrl+Enter/cmd+Enter.\n",
    "\n",
    "\n",
    "Any text in <font color='blue'>blue</font> is a question for you to answer that will be graded. Questions will be followed by an empty code or markdown block for you to put in your answer. When I ask 'What did it do?', insert a text box that describes verbally what happened.\n",
    "\n",
    "As an example. <font color='blue'>In the code block below, make a list of three elements of your choosing, store it as an object called l. Then type l[1]. What did it do?</font>"
   ]
  },
  {
   "cell_type": "code",
   "execution_count": 36,
   "metadata": {},
   "outputs": [
    {
     "data": {
      "text/plain": [
       "4"
      ]
     },
     "execution_count": 36,
     "metadata": {},
     "output_type": "execute_result"
    }
   ],
   "source": [
    "l = ['a', 4, 5.6]\n",
    "l[1]"
   ]
  },
  {
   "cell_type": "markdown",
   "metadata": {},
   "source": [
    "l[1] pulled out element 1 (the second element) from the list"
   ]
  },
  {
   "cell_type": "markdown",
   "metadata": {},
   "source": [
    "# Basics of Jupyter Notebooks\n",
    "\n",
    "Jupyter notebooks allow you to integrate text, math equations, and code into a single document. They are invaluable as appendices to your project where you can present code and details about your methods. They are also how we will work through lab exercises and quizzes. \n",
    "\n",
    "Jupyter notebooks have two basic structures: text boxes and code boxes. You can insert new code and text boxes using the Insert menu in the control panel or by pressing 'B' in command mode.\n",
    "\n",
    "### Text boxes\n",
    "\n",
    "Text boxes look like this:"
   ]
  },
  {
   "cell_type": "markdown",
   "metadata": {},
   "source": []
  },
  {
   "cell_type": "markdown",
   "metadata": {},
   "source": [
    "You can double click on the text box to begin typing, or click on the box and hit 'Enter'. The typing follows a structure known as Markdown. It is very easy. Normal text is normal text. Headers are delimited by # symbols. One # symbol is a level 1 header, two ## is a level two header and so on. Once text has been entered, run the cell (either pressing run in the control bar, ctrl-Enter on PC, or cmd-Enter on Mac) to format the text. Double click on the box below (or click + Enter) to see how the text is formatted."
   ]
  },
  {
   "cell_type": "markdown",
   "metadata": {},
   "source": [
    "# Level 1 Header\n",
    "\n",
    "## Level 2 Header\n",
    "\n",
    "### Level 3 Header\n",
    "\n",
    "Text"
   ]
  },
  {
   "cell_type": "markdown",
   "metadata": {},
   "source": [
    "<font color='blue'>Create a new text box below this line, put in both level 1 and level 2 headers, and type some text between them."
   ]
  },
  {
   "cell_type": "markdown",
   "metadata": {},
   "source": [
    "Code blocks look like this:"
   ]
  },
  {
   "cell_type": "code",
   "execution_count": null,
   "metadata": {},
   "outputs": [],
   "source": []
  },
  {
   "cell_type": "markdown",
   "metadata": {},
   "source": [
    "In these blocks, we can type Python code. Then running the cell (Run in the control panel, ctl+Enter on PC, cmd+Enter on Mac) then executes the commands directly in the notebook."
   ]
  },
  {
   "cell_type": "markdown",
   "metadata": {},
   "source": [
    "# Basics of Python\n",
    "\n",
    "Python is a simple, easy to learn, and versatile language that is used for general programming, statistics, and machine learning. It is widely used in industry (Google, Yahoo!, ESRI GIS, etc) and academics. In research, Python is widely used in machine learning, compuer science, astrophysics, and bioinformatics. Thus, learning Python will serve you well in the future. \n",
    "\n",
    "When we work in Python, we save scripts that execute our commands. This means we can always reproduce *exactly* what we have done at each step. We can also share our scripts with others who can then reproduce our analyses exactly. For the purposes of this course, we will use Jupyter Notebooks as our script and annotation program. These notebooks are valuable because you can essentially write a document that describes every step, then include the code to execute it. Although we are working with these notebooks in the cloud, it is possible to set them up on your own computer for research."
   ]
  },
  {
   "cell_type": "markdown",
   "metadata": {},
   "source": [
    "## Getting started\n",
    "\n",
    "Python is an *interpreted language*. Don't worry about the details, but this means that you can execute code as you go to test it out. Let's look at a basic example. <font color='blue'>In the code box below, type print('Hello World') and run the code.</font>"
   ]
  },
  {
   "cell_type": "code",
   "execution_count": 53,
   "metadata": {},
   "outputs": [],
   "source": []
  },
  {
   "cell_type": "markdown",
   "metadata": {},
   "source": [
    "The command print() is a *function*, which tells Python we want to execute a command. A function is always followed by parentheses (), which we pass the *arguments* to the function. The arguments are the various options that we can give to the function when it executes. In this case, we are calling the print function and the first argument is telling the print function what we want to print.\n",
    "\n",
    "Python also operates like a basic calculator (although we will extend its mathematic capabilities later). <font color='blue'> Type 2+2 into the code box below and execute the code.</font>"
   ]
  },
  {
   "cell_type": "code",
   "execution_count": 54,
   "metadata": {},
   "outputs": [],
   "source": []
  },
  {
   "cell_type": "markdown",
   "metadata": {},
   "source": [
    "**Important**: We can add comments to our code with the # symbol. Any line preceded by a # will not run. <font color='blue'>Try typing #2+2, what happens?</font>"
   ]
  },
  {
   "cell_type": "code",
   "execution_count": null,
   "metadata": {},
   "outputs": [],
   "source": []
  },
  {
   "cell_type": "markdown",
   "metadata": {},
   "source": [
    "## Assigning objects\n",
    "\n",
    "In Python, we can assign *objects* to use later on. In fact, Python is an *object-oriented language*, so saving objects to be used later is the essence of what Python does. We do this using the assignment operator '='. For, let's store a short DNA sequence as a object, and then tell Python to print the object:"
   ]
  },
  {
   "cell_type": "code",
   "execution_count": 55,
   "metadata": {},
   "outputs": [
    {
     "name": "stdout",
     "output_type": "stream",
     "text": [
      "ATGCGTA\n"
     ]
    }
   ],
   "source": [
    "my_dna = 'ATGCGTA'\n",
    "print(my_dna)"
   ]
  },
  {
   "cell_type": "markdown",
   "metadata": {},
   "source": [
    "Ojects can also hold numbers, in which case the object acts like the number and we can use the object in later operations. <font color='blue'>In the code box below, make assign two objects x and y to two different numbers. Then, add x and y together.</font>"
   ]
  },
  {
   "cell_type": "code",
   "execution_count": null,
   "metadata": {},
   "outputs": [],
   "source": []
  },
  {
   "cell_type": "markdown",
   "metadata": {},
   "source": [
    "<font color='blue'>Type x*y in the code block below and execute the code.</font>"
   ]
  },
  {
   "cell_type": "code",
   "execution_count": null,
   "metadata": {},
   "outputs": [],
   "source": []
  },
  {
   "cell_type": "markdown",
   "metadata": {},
   "source": [
    "The assigned objects are saved for the rest of the program, we can call them whenever we like. We can also call them whatever we like, although simpler names are preferred because they are easy to type. <font color='blue'>In the code box below, type this_is_x=2.</font>"
   ]
  },
  {
   "cell_type": "code",
   "execution_count": null,
   "metadata": {},
   "outputs": [],
   "source": []
  },
  {
   "cell_type": "markdown",
   "metadata": {},
   "source": [
    "**Important**: Python is *case-sensitive*. <font color='blue'>Try typing X in the code box below.</font>"
   ]
  },
  {
   "cell_type": "code",
   "execution_count": null,
   "metadata": {},
   "outputs": [],
   "source": []
  },
  {
   "cell_type": "markdown",
   "metadata": {},
   "source": [
    "<font color='blue'>Try typing this_is_X.</font>"
   ]
  },
  {
   "cell_type": "code",
   "execution_count": null,
   "metadata": {},
   "outputs": [],
   "source": []
  },
  {
   "cell_type": "markdown",
   "metadata": {},
   "source": [
    "<font color='blue'>Try multiplying x by 5 then adding 12, and save this as a new object. Then take the new object and divide it by 2.2, again saving this as a new object. Print out the value of the final object. </font>"
   ]
  },
  {
   "cell_type": "code",
   "execution_count": null,
   "metadata": {},
   "outputs": [],
   "source": []
  },
  {
   "cell_type": "markdown",
   "metadata": {},
   "source": [
    "## Data types in Python\n",
    "\n",
    "Python has many datatypes, which we will explore throughout the semester. To get started, we will discuss *strings*, *integers*, and *floats*, as these are the most relevant to us. \n",
    "\n",
    "### Strings\n",
    "\n",
    "Strings are collections of characters, and are identified by placing the text in either single quotes (' ') or double quotes (\" \"). For example, 'Hello World' is a string. <font color='blue'>In the code block below, save a string of your choosing as a new object, then print the string.</font>"
   ]
  },
  {
   "cell_type": "code",
   "execution_count": null,
   "metadata": {},
   "outputs": [],
   "source": []
  },
  {
   "cell_type": "markdown",
   "metadata": {},
   "source": [
    "Numbers can be strings, but then they operate as text and not numbers. <font color='blue'>For example, in the code block below, save a new object z='2'. Then try to multiply or add a number to z.</font>"
   ]
  },
  {
   "cell_type": "code",
   "execution_count": null,
   "metadata": {},
   "outputs": [],
   "source": []
  },
  {
   "cell_type": "markdown",
   "metadata": {},
   "source": [
    "We can concatenate strings by 'adding' them together. <font color='blue'>In the code box below, make a new short DNA sequence called my_dna2. Then, make a new object that is my_dna + my_dna2, and print the object.</font>"
   ]
  },
  {
   "cell_type": "code",
   "execution_count": null,
   "metadata": {},
   "outputs": [],
   "source": []
  },
  {
   "cell_type": "markdown",
   "metadata": {},
   "source": [
    "We can find the length of a string (number of characters, including spaces) using the len() function. <font color='blue'>In the code box below, find the length of the my_dna string.</font>"
   ]
  },
  {
   "cell_type": "code",
   "execution_count": null,
   "metadata": {},
   "outputs": [],
   "source": []
  },
  {
   "cell_type": "markdown",
   "metadata": {},
   "source": [
    "### Integers and floats\n",
    "\n",
    "Integers are just whole numbers. Floats are numbers with decimal places. We will generally work with floats."
   ]
  },
  {
   "cell_type": "code",
   "execution_count": 10,
   "metadata": {},
   "outputs": [
    {
     "data": {
      "text/plain": [
       "int"
      ]
     },
     "execution_count": 10,
     "metadata": {},
     "output_type": "execute_result"
    }
   ],
   "source": [
    "type(2)"
   ]
  },
  {
   "cell_type": "code",
   "execution_count": 11,
   "metadata": {},
   "outputs": [
    {
     "data": {
      "text/plain": [
       "int"
      ]
     },
     "execution_count": 11,
     "metadata": {},
     "output_type": "execute_result"
    }
   ],
   "source": [
    "type(0)"
   ]
  },
  {
   "cell_type": "code",
   "execution_count": 12,
   "metadata": {},
   "outputs": [
    {
     "data": {
      "text/plain": [
       "float"
      ]
     },
     "execution_count": 12,
     "metadata": {},
     "output_type": "execute_result"
    }
   ],
   "source": [
    "type(0.0)"
   ]
  },
  {
   "cell_type": "code",
   "execution_count": 13,
   "metadata": {},
   "outputs": [
    {
     "data": {
      "text/plain": [
       "float"
      ]
     },
     "execution_count": 13,
     "metadata": {},
     "output_type": "execute_result"
    }
   ],
   "source": [
    "type(2.23)"
   ]
  },
  {
   "cell_type": "markdown",
   "metadata": {},
   "source": [
    "Unlike strings, you can add integers and floats. The result is a float. <font color='blue'>In the code block below, make two new objects, one integer and one float. Multiple or add them together and save into a new object. Then, identify what kind of object the new variable is using the type() function.</font>"
   ]
  },
  {
   "cell_type": "code",
   "execution_count": null,
   "metadata": {},
   "outputs": [],
   "source": []
  },
  {
   "cell_type": "markdown",
   "metadata": {},
   "source": [
    "### Lists\n",
    "\n",
    "Lists in Python are simply collections of different *elements*. They can be anything, elements do not have to be all of the same type."
   ]
  },
  {
   "cell_type": "code",
   "execution_count": 59,
   "metadata": {},
   "outputs": [],
   "source": [
    "l = [0, 'a', 2, 4.44]"
   ]
  },
  {
   "cell_type": "markdown",
   "metadata": {},
   "source": [
    "Individual list elements can be accessed by indexing. **Important**: Python is a 0-indexed language. This means that the first element is index 0, and the second element is index 1. You can access the first element by"
   ]
  },
  {
   "cell_type": "code",
   "execution_count": 60,
   "metadata": {},
   "outputs": [
    {
     "data": {
      "text/plain": [
       "0"
      ]
     },
     "execution_count": 60,
     "metadata": {},
     "output_type": "execute_result"
    }
   ],
   "source": [
    "l[0]"
   ]
  },
  {
   "cell_type": "markdown",
   "metadata": {},
   "source": [
    "We can start in the reverse using negative numbers. That is, the index l[-1] returns the last element of the list. <font color='blue'>The list above has four elements. What is the maximum index? Return the third element of the list with forward indexing, and return the first element of the list using backward indexing.</font>"
   ]
  },
  {
   "cell_type": "code",
   "execution_count": 23,
   "metadata": {},
   "outputs": [],
   "source": [
    "## Insert your code here for forward indexing ##"
   ]
  },
  {
   "cell_type": "code",
   "execution_count": 24,
   "metadata": {},
   "outputs": [],
   "source": [
    "## Insert your code here for backward indexing ##"
   ]
  },
  {
   "cell_type": "markdown",
   "metadata": {},
   "source": [
    "We can get the length (or number of elements) within a list in the same way we calculated the number of base pairs in the DNA string. <font color='blue'>In the code box below, determine how many elements are in the list l.</font>"
   ]
  },
  {
   "cell_type": "code",
   "execution_count": null,
   "metadata": {},
   "outputs": [],
   "source": []
  },
  {
   "cell_type": "markdown",
   "metadata": {},
   "source": [
    "## For Loops\n",
    "\n",
    "For-loops allow us to iterate the same procedure on a every element of a list. Suppose we had a list of primate names:"
   ]
  },
  {
   "cell_type": "code",
   "execution_count": 61,
   "metadata": {},
   "outputs": [],
   "source": [
    "apes = ['Homo sapiens', 'Pan troglodytes', 'Gorilla gorilla']"
   ]
  },
  {
   "cell_type": "markdown",
   "metadata": {},
   "source": [
    "and we simply want to print each name. We could write:"
   ]
  },
  {
   "cell_type": "code",
   "execution_count": 63,
   "metadata": {},
   "outputs": [
    {
     "name": "stdout",
     "output_type": "stream",
     "text": [
      "Homo sapiens is an ape\n",
      "Pan troglodytes is an ape\n",
      "Gorilla gorilla is an ape\n"
     ]
    }
   ],
   "source": [
    "print(apes[0] + ' is an ape')\n",
    "print(apes[1] + ' is an ape')\n",
    "print(apes[2] + ' is an ape')"
   ]
  },
  {
   "cell_type": "markdown",
   "metadata": {},
   "source": [
    "With a for-loop, we can iterate it over every element of list. The range() function takes an integer and turns it into a list of integers starting at zero. For example, range(4) returns a list [0,1,2,3]. We can couple that with the len() function to iterate over every item of a list:"
   ]
  },
  {
   "cell_type": "code",
   "execution_count": 64,
   "metadata": {},
   "outputs": [
    {
     "name": "stdout",
     "output_type": "stream",
     "text": [
      "Homo sapiens is an ape\n",
      "Pan troglodytes is an ape\n",
      "Gorilla gorilla is an ape\n"
     ]
    }
   ],
   "source": [
    "for i in range(len(apes)):\n",
    "    print(apes[i] + ' is an ape')"
   ]
  },
  {
   "cell_type": "markdown",
   "metadata": {},
   "source": [
    "One of the beauties of Python syntax is that we can actually structure for-loops like this:"
   ]
  },
  {
   "cell_type": "code",
   "execution_count": 65,
   "metadata": {},
   "outputs": [
    {
     "name": "stdout",
     "output_type": "stream",
     "text": [
      "Homo sapiens is an ape\n",
      "Pan troglodytes is an ape\n",
      "Gorilla gorilla is an ape\n"
     ]
    }
   ],
   "source": [
    "for ape in apes:\n",
    "    print(ape + ' is an ape')"
   ]
  },
  {
   "cell_type": "markdown",
   "metadata": {},
   "source": [
    "**Important** Python has what's called *dynamic whitespace*. It means indentation level matters. Anything within the for loop must be indented. This helps keep Python code readable, forcing you into writing clean code."
   ]
  },
  {
   "cell_type": "markdown",
   "metadata": {},
   "source": [
    "<font color='blue'>In the codes box below, make a list of random numbers that has at least 10 elements. Then use a for-loop to add 23 to each number. Use both methods described above.</font>"
   ]
  },
  {
   "cell_type": "code",
   "execution_count": 66,
   "metadata": {},
   "outputs": [],
   "source": [
    "## Insert your code for method 1 here ##"
   ]
  },
  {
   "cell_type": "code",
   "execution_count": 67,
   "metadata": {},
   "outputs": [],
   "source": [
    "## Insert your code for method 2 here ##"
   ]
  },
  {
   "cell_type": "markdown",
   "metadata": {},
   "source": [
    "## Attributes and Methods\n",
    "\n",
    "Every object type has a unique set of attributes and methods. This is the core of what makes Python and *object-oriented* language, and also what helps Python maintain its easy and simple syntax compared to other languages. It is important to realize that every object type (float, string, integer, list, etc) has unique attributes and methods *that are only for that object type*. Attributes are simply various descriptions of the object. Methods allow us to manipulate the object. More generally, methods execute a function on the object to return a value. Attributes and methods are accessed by placing a period (.) after the object.\n",
    "\n",
    "For example, we can save a new imaginary float object. We can the use the attribute 'real' to get the real part of a."
   ]
  },
  {
   "cell_type": "code",
   "execution_count": 17,
   "metadata": {},
   "outputs": [
    {
     "data": {
      "text/plain": [
       "5.4"
      ]
     },
     "execution_count": 17,
     "metadata": {},
     "output_type": "execute_result"
    }
   ],
   "source": [
    "a = 2.3 + 5.4j\n",
    "a.real"
   ]
  },
  {
   "cell_type": "markdown",
   "metadata": {},
   "source": [
    "We can do the same for strings. <font color='blue'>In the code block below, save a new string a = 'hello world'. Then call the capitalize method a.capitalize().</font>"
   ]
  },
  {
   "cell_type": "code",
   "execution_count": null,
   "metadata": {},
   "outputs": [],
   "source": []
  },
  {
   "cell_type": "markdown",
   "metadata": {},
   "source": [
    "<font color='blue'>Now call a.upper(). What did it do compared to the capitalize method?</font>"
   ]
  },
  {
   "cell_type": "code",
   "execution_count": null,
   "metadata": {},
   "outputs": [],
   "source": [
    "## Insert your code here ##"
   ]
  },
  {
   "cell_type": "markdown",
   "metadata": {},
   "source": [
    "## Math in Python\n",
    "\n",
    "Python is excellent at math and provides a large amount of advanced numerical techniques. However, the basic Python package does not have this capability. We have to import a *module* to extend Python's numerical abilities. The module *numpy* provides almost all of the numerical capabilities that we will need."
   ]
  },
  {
   "cell_type": "code",
   "execution_count": 52,
   "metadata": {},
   "outputs": [],
   "source": [
    "import numpy"
   ]
  },
  {
   "cell_type": "markdown",
   "metadata": {},
   "source": [
    "Now we can access all of the mathematical functions numpy as to offer. We can take logarithms, exponentiate, and do anything else we need. The catch is that we have to tell Python to look in *numpy* for the function we are calling, much in the same way we call methods on objects."
   ]
  },
  {
   "cell_type": "code",
   "execution_count": 29,
   "metadata": {},
   "outputs": [
    {
     "data": {
      "text/plain": [
       "2.718281828459045"
      ]
     },
     "execution_count": 29,
     "metadata": {},
     "output_type": "execute_result"
    }
   ],
   "source": [
    "numpy.exp(1)"
   ]
  },
  {
   "cell_type": "code",
   "execution_count": 31,
   "metadata": {},
   "outputs": [
    {
     "data": {
      "text/plain": [
       "3.2188758248682006"
      ]
     },
     "execution_count": 31,
     "metadata": {},
     "output_type": "execute_result"
    }
   ],
   "source": [
    "numpy.log(25)"
   ]
  },
  {
   "cell_type": "markdown",
   "metadata": {},
   "source": [
    "However, typing numpy all the time is a real pain. We can shorten it:"
   ]
  },
  {
   "cell_type": "code",
   "execution_count": 32,
   "metadata": {},
   "outputs": [],
   "source": [
    "import numpy as np"
   ]
  },
  {
   "cell_type": "code",
   "execution_count": 33,
   "metadata": {},
   "outputs": [
    {
     "data": {
      "text/plain": [
       "2.718281828459045"
      ]
     },
     "execution_count": 33,
     "metadata": {},
     "output_type": "execute_result"
    }
   ],
   "source": [
    "np.exp(1)"
   ]
  },
  {
   "cell_type": "markdown",
   "metadata": {},
   "source": [
    "### Numpy Arrays\n",
    "\n",
    "The real power of numpy comes through the use of *arrays*. A numpy array is similar to a list, but is actual a mathematical vector. Unlike lists, arrays must be all of one data type. Numpy allows us to perform an operation on all elements, and to index arrays in fancy ways.\n",
    "\n",
    "We make arrays from lists:"
   ]
  },
  {
   "cell_type": "code",
   "execution_count": 37,
   "metadata": {},
   "outputs": [
    {
     "data": {
      "text/plain": [
       "array([ 3.  ,  4.  ,  2.75,  6.  , 10.  , 11.03])"
      ]
     },
     "execution_count": 37,
     "metadata": {},
     "output_type": "execute_result"
    }
   ],
   "source": [
    "a = [3,4,2.75,6,10,11.03]\n",
    "arr = np.array(a) # or do it in one line arr=np.array([3,4,2.75,6,10,11.03])\n",
    "print(arr)"
   ]
  },
  {
   "cell_type": "markdown",
   "metadata": {},
   "source": [
    "Notice that numpy has appended a period to all the integers, making them floats. We can now perform operations on all the numbers together. <font color='blue'>In the code block below, exponentiate the array. First, use  for-loop. Then, use the numpy exp function.</font>"
   ]
  },
  {
   "cell_type": "code",
   "execution_count": 68,
   "metadata": {},
   "outputs": [],
   "source": [
    "## Insert your for loop code here ##"
   ]
  },
  {
   "cell_type": "code",
   "execution_count": 69,
   "metadata": {},
   "outputs": [],
   "source": [
    "## Insert your numpy exp code here ##"
   ]
  },
  {
   "cell_type": "markdown",
   "metadata": {},
   "source": [
    "We can also perform arithmetic operations on two arrays, adding or multiplying the elements in each array. This only works on arrays of the same size."
   ]
  },
  {
   "cell_type": "code",
   "execution_count": 40,
   "metadata": {},
   "outputs": [
    {
     "data": {
      "text/plain": [
       "array([ 5.  ,  5.6 ,  6.25, 13.  , 30.3 , 17.46])"
      ]
     },
     "execution_count": 40,
     "metadata": {},
     "output_type": "execute_result"
    }
   ],
   "source": [
    "b= [2,1.6,3.5,7,20.3,6.43]\n",
    "arr2 = np.array(b) # or in one line: arr2 = np.array([2,1.6,3.5,7,20.3,6.43])\n",
    "print(arr+arr2)"
   ]
  },
  {
   "cell_type": "markdown",
   "metadata": {},
   "source": [
    "<font color='blue'>In the code block below, make an array of only five elements. Then try to add that array to the first array.</font>"
   ]
  },
  {
   "cell_type": "code",
   "execution_count": 41,
   "metadata": {},
   "outputs": [],
   "source": []
  },
  {
   "cell_type": "markdown",
   "metadata": {},
   "source": [
    "Numpy can find the average (numpy mean function) and standard deviation (numpy std function) of a set of numbers. Without worrying about the actual data, <font color='blue'>in the code block below, find the mean and standard deviation of the first array.</font>"
   ]
  },
  {
   "cell_type": "code",
   "execution_count": 42,
   "metadata": {},
   "outputs": [],
   "source": []
  },
  {
   "cell_type": "markdown",
   "metadata": {},
   "source": [
    "We can index arrays the same way as lists."
   ]
  },
  {
   "cell_type": "code",
   "execution_count": 43,
   "metadata": {},
   "outputs": [
    {
     "data": {
      "text/plain": [
       "4.0"
      ]
     },
     "execution_count": 43,
     "metadata": {},
     "output_type": "execute_result"
    }
   ],
   "source": [
    "arr[1]"
   ]
  },
  {
   "cell_type": "markdown",
   "metadata": {},
   "source": [
    "But we can also pull out *slices*. Suppose I want the first three elements. Then I need a slice from 0 to 0+3, which we can do using the : symbol"
   ]
  },
  {
   "cell_type": "code",
   "execution_count": 44,
   "metadata": {},
   "outputs": [
    {
     "data": {
      "text/plain": [
       "array([3.  , 4.  , 2.75])"
      ]
     },
     "execution_count": 44,
     "metadata": {},
     "output_type": "execute_result"
    }
   ],
   "source": [
    "arr[0:0+3]"
   ]
  },
  {
   "cell_type": "markdown",
   "metadata": {},
   "source": [
    "However, in numpy we can abbreviate this:"
   ]
  },
  {
   "cell_type": "code",
   "execution_count": 45,
   "metadata": {},
   "outputs": [
    {
     "data": {
      "text/plain": [
       "array([3.  , 4.  , 2.75])"
      ]
     },
     "execution_count": 45,
     "metadata": {},
     "output_type": "execute_result"
    }
   ],
   "source": [
    "arr[:3]"
   ]
  },
  {
   "cell_type": "markdown",
   "metadata": {},
   "source": [
    "<font color='blue'> In the code box below, pull out the last three values of the array by combining slicing with backward indexing</font>"
   ]
  },
  {
   "cell_type": "code",
   "execution_count": null,
   "metadata": {},
   "outputs": [],
   "source": []
  },
  {
   "cell_type": "markdown",
   "metadata": {},
   "source": [
    "We can also pull out specific elements."
   ]
  },
  {
   "cell_type": "code",
   "execution_count": 48,
   "metadata": {},
   "outputs": [
    {
     "data": {
      "text/plain": [
       "array([ 3.  , 10.  , 11.03])"
      ]
     },
     "execution_count": 48,
     "metadata": {},
     "output_type": "execute_result"
    }
   ],
   "source": [
    "index = [0, 4, 5]\n",
    "arr[index]"
   ]
  }
 ],
 "metadata": {
  "kernelspec": {
   "display_name": "Python 3",
   "language": "python",
   "name": "python3"
  },
  "language_info": {
   "codemirror_mode": {
    "name": "ipython",
    "version": 3
   },
   "file_extension": ".py",
   "mimetype": "text/x-python",
   "name": "python",
   "nbconvert_exporter": "python",
   "pygments_lexer": "ipython3",
   "version": "3.7.3"
  }
 },
 "nbformat": 4,
 "nbformat_minor": 2
}
